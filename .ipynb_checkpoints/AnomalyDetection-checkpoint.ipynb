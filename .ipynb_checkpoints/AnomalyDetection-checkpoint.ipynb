{
 "cells": [
  {
   "cell_type": "markdown",
   "metadata": {},
   "source": [
    "# Anomaly Detection.\n",
    "\n",
    "Let's go back to our `2001.csv` airline data to examine how we can use anomaly detection techniques in Python."
   ]
  },
  {
   "cell_type": "code",
   "execution_count": 1,
   "metadata": {
    "collapsed": false,
    "deletable": true,
    "nbgrader": {
     "checksum": "309b87e99a3235b7c36850905ee63606",
     "grade": false,
     "grade_id": "import",
     "locked": true,
     "solution": false
    }
   },
   "outputs": [],
   "source": [
    "%matplotlib inline\n",
    "import numpy as np\n",
    "import pandas as pd\n",
    "\n",
    "from scipy import stats\n",
    "from sklearn.utils import check_random_state\n",
    "\n",
    "from helper import *"
   ]
  },
  {
   "cell_type": "markdown",
   "metadata": {},
   "source": [
    "We use the following columns:\n",
    "\n",
    "- Column 1: Month, 1-12\n",
    "- Column 2: DayofMonth, 1-31\n",
    "- Column 21: Cancelled, was the flight cancelled?"
   ]
  },
  {
   "cell_type": "code",
   "execution_count": 2,
   "metadata": {
    "collapsed": false,
    "deletable": true,
    "nbgrader": {
     "checksum": "16cbe0c6c3bc9885df043d63b8a9461c",
     "grade": false,
     "grade_id": "read_csv",
     "locked": true,
     "solution": false
    }
   },
   "outputs": [],
   "source": [
    "df = pd.read_csv(\n",
    "    '~/2001.csv',\n",
    "    encoding='latin-1',\n",
    "    usecols=(1, 2, 21)\n",
    "    )"
   ]
  },
  {
   "cell_type": "markdown",
   "metadata": {},
   "source": [
    "## The daily number of flights\n",
    "\n",
    "- First, we should find the total number of flights on each day of 2001.\n",
    "- Function `get_number_of_flights()` returns a data frame with a [MultiIndex](http://pandas.pydata.org/pandas-docs/stable/advanced.html) (`Month` and `DayofMonth`). \n",
    "- The output column is called `Flights`."
   ]
  },
  {
   "cell_type": "code",
   "execution_count": 3,
   "metadata": {
    "collapsed": false,
    "deletable": true,
    "nbgrader": {
     "checksum": "891009da4306d30a752d433bb0527099",
     "grade": false,
     "grade_id": "get_number_of_flights_run",
     "locked": true,
     "solution": false
    }
   },
   "outputs": [
    {
     "name": "stdout",
     "output_type": "stream",
     "text": [
      "                  Flights\n",
      "Month DayofMonth         \n",
      "1     1             16081\n",
      "      2             17612\n",
      "      3             17573\n",
      "      4             17570\n",
      "      5             17576\n"
     ]
    }
   ],
   "source": [
    "flights = get_number_of_flights(df)\n",
    "print(flights.head())"
   ]
  },
  {
   "cell_type": "markdown",
   "metadata": {
    "collapsed": true
   },
   "source": [
    "## Daily cancellations\n",
    "\n",
    "- Next, we find the total number of cancellations on each day of 2001.\n",
    "- Function `get_cancellations()` returns a data frame with a [MultiIndex](http://pandas.pydata.org/pandas-docs/stable/advanced.html) (`Month` and `DayofMonth`).\n",
    "- The name of the output column is `Cancelled`."
   ]
  },
  {
   "cell_type": "code",
   "execution_count": 4,
   "metadata": {
    "collapsed": false,
    "deletable": true,
    "nbgrader": {
     "checksum": "6557c42cae7fbe299212415489706fdd",
     "grade": false,
     "grade_id": "get_cancellations_run",
     "locked": true,
     "solution": false
    }
   },
   "outputs": [
    {
     "name": "stdout",
     "output_type": "stream",
     "text": [
      "                  Cancelled\n",
      "Month DayofMonth           \n",
      "1     1                1190\n",
      "      2                 706\n",
      "      3                 575\n",
      "      4                 474\n",
      "      5                 877\n"
     ]
    }
   ],
   "source": [
    "cancelled = get_cancellations(df)\n",
    "print(cancelled.head())"
   ]
  },
  {
   "cell_type": "markdown",
   "metadata": {},
   "source": [
    "## Find and visualize outliers\n",
    "\n",
    "Let's find and visualize outliers. For our purposes, we define a data point $x$ to be an outlier if $x > \\mu + 3\\sigma$ or $x < \\mu - 3\\sigma$, where $\\mu$ and $\\sigma$ are mean and standard deviation, respectively. We will plot the histogram of **all** data points (inliers pluts outliers) first, and then plot the histogram of **outliers** with a different color."
   ]
  },
  {
   "cell_type": "code",
   "execution_count": 5,
   "metadata": {
    "collapsed": false,
    "deletable": true,
    "nbgrader": {
     "checksum": "8dea78268cfac54af940c76fa31a1dc1",
     "grade": false,
     "grade_id": "ax_flights_run",
     "locked": true,
     "solution": false
    },
    "scrolled": true
   },
   "outputs": [
    {
     "data": {
      "image/png": "[encoded data removed]",
      "text/plain": [
       "<matplotlib.figure.Figure at 0x10b5319b0>"
      ]
     },
     "metadata": {},
     "output_type": "display_data"
    }
   ],
   "source": [
    "ax_flights = plot_outliers(flights, 'Flights', bins=np.linspace(10000, 19000, 20))"
   ]
  },
  {
   "cell_type": "code",
   "execution_count": 6,
   "metadata": {
    "collapsed": false,
    "deletable": true,
    "nbgrader": {
     "checksum": "81fd549d64134eb6f4e47b35baa69fb4",
     "grade": false,
     "grade_id": "ax_cancelled_run",
     "locked": true,
     "solution": false
    }
   },
   "outputs": [
    {
     "data": {
      "image/png": "[encoded data removed]",
      "text/plain": [
       "<matplotlib.figure.Figure at 0x103a9f780>"
      ]
     },
     "metadata": {},
     "output_type": "display_data"
    }
   ],
   "source": [
    "ax_cancelled = plot_outliers(cancelled, 'Cancelled', bins=np.linspace(0, 18000, 20))"
   ]
  },
  {
   "cell_type": "markdown",
   "metadata": {},
   "source": [
    "## Two-dimensional plot\n",
    "\n",
    "First, we create a scatter plot of **inliers**, then create a scatter plot of **outliers**. We define a data point $(x, y)$ to be an outlier if *any* of the following conditions are true:\n",
    "\n",
    " - $x > \\mu + 3\\sigma$,\n",
    " - $x < \\mu - 3\\sigma$,\n",
    " - $y > \\mu + 3\\sigma$, or\n",
    " - $y < \\mu - 3\\sigma$.\n",
    "\n",
    "where $\\mu$ and $\\sigma$ are mean and standard deviation, respectively."
   ]
  },
  {
   "cell_type": "code",
   "execution_count": 7,
   "metadata": {
    "collapsed": false,
    "deletable": true,
    "nbgrader": {
     "checksum": "2f75f7ab98bb2aa2d7d9716d0b27553c",
     "grade": false,
     "grade_id": "plot_2d_run",
     "locked": true,
     "solution": false
    }
   },
   "outputs": [
    {
     "name": "stderr",
     "output_type": "stream",
     "text": [
      "/Library/Frameworks/Python.framework/Versions/3.5/lib/python3.5/site-packages/matplotlib/collections.py:590: FutureWarning: elementwise comparison failed; returning scalar instead, but in the future will perform elementwise comparison\n",
      "  if self._edgecolors == str('face'):\n"
     ]
    },
    {
     "data": {
      "image/png": "[encoded data removed]",
      "text/plain": [
       "<matplotlib.figure.Figure at 0x106fbb198>"
      ]
     },
     "metadata": {},
     "output_type": "display_data"
    }
   ],
   "source": [
    "ax_2d = plot_2d(flights, cancelled, 'Flights', 'Cancelled')"
   ]
  },
  {
   "cell_type": "markdown",
   "metadata": {},
   "source": [
    "## Cluster Analysis\n",
    "\n",
    "- We can scale the data set by using `StandardScaler()`, and then apply the DBSCAN algorithm to find noise points.\n",
    "- We will accomplish this in the function `dbscan_outliers()`"
   ]
  },
  {
   "cell_type": "code",
   "execution_count": 8,
   "metadata": {
    "collapsed": false,
    "deletable": true,
    "nbgrader": {
     "checksum": "0ccf0be5738d1530b8d884b2ff3987ac",
     "grade": false,
     "grade_id": "db_flights_run",
     "locked": true,
     "solution": false
    }
   },
   "outputs": [
    {
     "name": "stdout",
     "output_type": "stream",
     "text": [
      "                  Flights\n",
      "Month DayofMonth         \n",
      "11    22            11001\n",
      "      23            11098\n"
     ]
    }
   ],
   "source": [
    "db_flights, db_flights_outliers = dbscan_outliers(flights)\n",
    "print(db_flights_outliers)"
   ]
  },
  {
   "cell_type": "markdown",
   "metadata": {},
   "source": [
    "DBSCAN finds two outliers, which are the same three-sigma outliers we found eariler. It is not difficult to guess which days will be outliers when it comes to cancellations."
   ]
  },
  {
   "cell_type": "code",
   "execution_count": 9,
   "metadata": {
    "collapsed": false,
    "deletable": true,
    "nbgrader": {
     "checksum": "0e9f02c2db0f9ee5f329f0e29c878fc9",
     "grade": false,
     "grade_id": "db_cancelled_run",
     "locked": true,
     "solution": false
    }
   },
   "outputs": [
    {
     "name": "stdout",
     "output_type": "stream",
     "text": [
      "                  Cancelled\n",
      "Month DayofMonth           \n",
      "9     11              14962\n",
      "      12              17535\n",
      "      13              16109\n",
      "      14               9611\n",
      "      15               5573\n"
     ]
    }
   ],
   "source": [
    "db_cancelled, db_cancelled_outliers = dbscan_outliers(cancelled)\n",
    "print(db_cancelled_outliers)"
   ]
  }
 ],
 "metadata": {
  "kernelspec": {
   "display_name": "Python 3",
   "language": "python",
   "name": "python3"
  },
  "language_info": {
   "codemirror_mode": {
    "name": "ipython",
    "version": 3
   },
   "file_extension": ".py",
   "mimetype": "text/x-python",
   "name": "python",
   "nbconvert_exporter": "python",
   "pygments_lexer": "ipython3",
   "version": "3.5.1"
  }
 },
 "nbformat": 4,
 "nbformat_minor": 0
}
